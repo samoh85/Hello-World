{
  "nbformat": 4,
  "nbformat_minor": 0,
  "metadata": {
    "colab": {
      "provenance": [],
      "authorship_tag": "ABX9TyOOn8e5vLJCr5LkleLDztyX",
      "include_colab_link": true
    },
    "kernelspec": {
      "name": "python3",
      "display_name": "Python 3"
    },
    "language_info": {
      "name": "python"
    }
  },
  "cells": [
    {
      "cell_type": "markdown",
      "metadata": {
        "id": "view-in-github",
        "colab_type": "text"
      },
      "source": [
        "<a href=\"https://colab.research.google.com/github/samoh85/Hello-World/blob/master/learning_python.ipynb\" target=\"_parent\"><img src=\"https://colab.research.google.com/assets/colab-badge.svg\" alt=\"Open In Colab\"/></a>"
      ]
    },
    {
      "cell_type": "code",
      "execution_count": 26,
      "metadata": {
        "colab": {
          "base_uri": "https://localhost:8080/"
        },
        "id": "NYIiBAVGq9hu",
        "outputId": "af9a891e-df28-4c4f-8d65-7f4967a10bce"
      },
      "outputs": [
        {
          "output_type": "stream",
          "name": "stdout",
          "text": [
            "[range(10, 20)]\n",
            "[10, 11, 12, 13, 14, 15, 16, 17, 18, 19]\n",
            "[(0, 0), (0, 1), (0, 2), (1, 0), (1, 1), (1, 2), (2, 0), (2, 1), (2, 2)]\n",
            "[(0, 0), (0, 1), (0, 2)]\n",
            "[]\n",
            "[range(1, 4)]\n",
            "[1, 2, 3]\n"
          ]
        }
      ],
      "source": [
        "mylist = [range(10,20,1)]\n",
        "print(mylist)\n",
        "mylist = [*range(10,20,1)]\n",
        "print (mylist)\n",
        "\n",
        "# rclist will contain a list of all possible tuples\n",
        "rclist = [(r,c) for r in range(3) for c in range (3)]\n",
        "print(rclist)\n",
        "\n",
        "# rclist  will contains a list which contains the tuples with r value equals to 0\n",
        "rclist = [(r,c) for r in range(3) for c in range (3) if r == 0]\n",
        "print(rclist)\n",
        "\n",
        "# rclist will contains empty list\n",
        "rclist = [(r,c) for r in range(3) for c in range (3) if r == 3]\n",
        "print(rclist)\n",
        "\n",
        "#my_list will contain the range object\n",
        "my_list = [range(1,4)]\n",
        "print(my_list)\n",
        "\n",
        "# * operator creates a list from a range object\n",
        "# * operator sometimes called  \"splat\" or \"unpacking\" operator,\n",
        "# can be used to unpack the elements of a sequence object like\n",
        "# a range() object into a new list.\n",
        "my_list = [*range(1,4)]\n",
        "print(my_list)"
      ]
    }
  ]
}